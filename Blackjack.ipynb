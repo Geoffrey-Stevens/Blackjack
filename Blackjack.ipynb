{
 "cells": [
  {
   "cell_type": "markdown",
   "metadata": {},
   "source": [
    "Blackjack"
   ]
  },
  {
   "cell_type": "code",
   "execution_count": 23,
   "metadata": {},
   "outputs": [
    {
     "ename": "TypeError",
     "evalue": "list expected at most 1 arguments, got 3",
     "output_type": "error",
     "traceback": [
      "\u001b[0;31m---------------------------------------------------------------------------\u001b[0m",
      "\u001b[0;31mTypeError\u001b[0m                                 Traceback (most recent call last)",
      "\u001b[0;32m<ipython-input-23-f9e9adaf8008>\u001b[0m in \u001b[0;36m<module>\u001b[0;34m\u001b[0m\n\u001b[1;32m      1\u001b[0m \u001b[0;31m#Step 1 initiate varaibles\u001b[0m\u001b[0;34m\u001b[0m\u001b[0;34m\u001b[0m\u001b[0;34m\u001b[0m\u001b[0m\n\u001b[0;32m----> 2\u001b[0;31m \u001b[0;32mclass\u001b[0m \u001b[0mBlackJack\u001b[0m\u001b[0;34m(\u001b[0m\u001b[0mdeck\u001b[0m\u001b[0;34m)\u001b[0m\u001b[0;34m:\u001b[0m\u001b[0;34m\u001b[0m\u001b[0;34m\u001b[0m\u001b[0m\n\u001b[0m\u001b[1;32m      3\u001b[0m     \u001b[0;32mdef\u001b[0m \u001b[0m__init__\u001b[0m\u001b[0;34m(\u001b[0m\u001b[0mself\u001b[0m\u001b[0;34m,\u001b[0m \u001b[0mgame\u001b[0m\u001b[0;34m)\u001b[0m\u001b[0;34m:\u001b[0m\u001b[0;34m\u001b[0m\u001b[0;34m\u001b[0m\u001b[0m\n\u001b[1;32m      4\u001b[0m \u001b[0;34m\u001b[0m\u001b[0m\n\u001b[1;32m      5\u001b[0m         \u001b[0mself\u001b[0m\u001b[0;34m.\u001b[0m\u001b[0mgame\u001b[0m \u001b[0;34m=\u001b[0m \u001b[0mgame\u001b[0m\u001b[0;34m\u001b[0m\u001b[0;34m\u001b[0m\u001b[0m\n",
      "\u001b[0;31mTypeError\u001b[0m: list expected at most 1 arguments, got 3"
     ]
    }
   ],
   "source": [
    "#Step 1 initiate varaibles\n",
    "class BlackJack(deck):\n",
    "    def __init__(self, game):\n",
    "        self.game = game\n",
    "        \n",
    "#Step 2 distribute cards\n",
    "    def playerHand(deck):\n",
    "        card1 = deck.pop()\n",
    "        card2 = deck.pop()\n",
    "        self.playerhand.append(card1)\n",
    "        self.playerhand.append(card2)\n",
    "        return playerhand\n",
    "        print(playerhand)\n",
    "\n",
    "\n"
   ]
  },
  {
   "cell_type": "markdown",
   "metadata": {},
   "source": [
    "Player Class"
   ]
  },
  {
   "cell_type": "code",
   "execution_count": 15,
   "metadata": {},
   "outputs": [
    {
     "ename": "IndentationError",
     "evalue": "expected an indented block (<ipython-input-15-6d6ca06da3f6>, line 21)",
     "output_type": "error",
     "traceback": [
      "\u001b[0;36m  File \u001b[0;32m\"<ipython-input-15-6d6ca06da3f6>\"\u001b[0;36m, line \u001b[0;32m21\u001b[0m\n\u001b[0;31m    def playerHandTotal():\u001b[0m\n\u001b[0m      ^\u001b[0m\n\u001b[0;31mIndentationError\u001b[0m\u001b[0;31m:\u001b[0m expected an indented block\n"
     ]
    }
   ],
   "source": [
    "class Player():\n",
    "    def __init__(self, deck):\n",
    "        self.deck = deck\n",
    "        playerhand = []\n",
    "        #generates first 2 cards of player hand\n",
    "    def playerHand(deck):\n",
    "        card1 = deck.pop()\n",
    "        card2 = deck.pop()\n",
    "        self.playerhand.append(card1)\n",
    "        self.playerhand.append(card2)\n",
    "        #consider changing to a method that returns playerhnd\n",
    "        print(playerhand)\n",
    "        \n",
    "            #uses player hit boolean from game class\n",
    "    def playerHit(deck):\n",
    "        if player_hit == True:\n",
    "            hit.deck.pop()\n",
    "            self.playerhand.append(hit)\n",
    "            \n",
    "            \n",
    "    def playerStand():\n",
    "        \n",
    "    def playerHandTotal():\n",
    "        total = 0\n",
    "        if card[0] == 'Ace':\n",
    "            if total > 21:\n",
    "                card[0] == 1\n",
    "            elif total < 21\n",
    "                card[0] == 11\n",
    "        \n",
    "        "
   ]
  },
  {
   "cell_type": "markdown",
   "metadata": {},
   "source": [
    "House"
   ]
  },
  {
   "cell_type": "code",
   "execution_count": 86,
   "metadata": {},
   "outputs": [
    {
     "name": "stdout",
     "output_type": "stream",
     "text": [
      "[Card(value='Queen', suit='spades'), Card(value='6', suit='diamonds')]\n"
     ]
    }
   ],
   "source": [
    "#class House():\n",
    "#def houseHand():\n",
    "\n",
    "househand = []\n",
    "card1 = deck.pop()\n",
    "card2 = deck.pop()\n",
    "househand.append(card1)\n",
    "househand.append(card2)\n",
    "#if househand < 17, house has to hit\n",
    "\n",
    "print(househand)\n"
   ]
  },
  {
   "cell_type": "markdown",
   "metadata": {},
   "source": [
    "Deck"
   ]
  },
  {
   "cell_type": "code",
   "execution_count": 10,
   "metadata": {},
   "outputs": [
    {
     "name": "stdout",
     "output_type": "stream",
     "text": [
      "Queen of Hearts\n",
      "3 of Clubs\n",
      "[Card(value='2', suit='Diamonds'), Card(value='Queen', suit='Diamonds')]\n"
     ]
    }
   ],
   "source": [
    "#generate deck\n",
    "from collections import namedtuple\n",
    "import random\n",
    "\n",
    "Card = namedtuple('Card', ['value', 'suit'])\n",
    "suits = ['Hearts', 'Diamonds', 'Spades', 'Clubs']\n",
    "values = ['Ace', '2', '3', '4', '5', '6', '7', '8', '9', '10', 'Jack', 'Queen', 'King']\n",
    "#list comp deck gen\n",
    "deck = [Card(value, suit) for value in values for suit in suits]\n",
    "\n",
    "\n",
    "def __init__(self, card):\n",
    "        self.value = self.determineValue(card[0])\n",
    "        self.suit = card[1]\n",
    "\n",
    "\n",
    "def determineValue(x,y):\n",
    "    return {\n",
    "            'Ace': 1,\n",
    "            '2': 2,\n",
    "            '3': 3,\n",
    "            '4': 4,\n",
    "            '5': 5,\n",
    "            '6': 6,\n",
    "            '7': 7,\n",
    "            '8': 8,\n",
    "            '9': 9,\n",
    "            '10': 10,\n",
    "            'Jack' : 10,\n",
    "            'Queen' : 10,\n",
    "            'King': 10 \n",
    "    }.get(y)\n",
    "\n",
    "random.shuffle(deck)\n",
    "\n",
    "#nned to allign print statement with card1&2\n",
    "#for i in range(2):\n",
    "    #print(deck[i][0], 'of', deck[i][1])\n",
    "\n",
    "playerhand = []\n",
    "card1 = deck.pop()\n",
    "card2 = deck.pop()\n",
    "\n",
    "playerhand.append(card1)\n",
    "playerhand.append(card2)\n",
    "print(playerhand)\n",
    "\n",
    "\n",
    "\n",
    "\n",
    "\n",
    "    "
   ]
  },
  {
   "cell_type": "markdown",
   "metadata": {},
   "source": [
    "Main Loop"
   ]
  },
  {
   "cell_type": "code",
   "execution_count": 37,
   "metadata": {},
   "outputs": [],
   "source": [
    "class Game():\n",
    "    \n",
    "    def gameStart():\n",
    "        ans = input('Would you like to play a hand of Blackjack? yes/no')\n",
    "        if ans.lower() == 'yes':\n",
    "            print(ans)\n",
    "        elif ans.lower == 'no':\n",
    "            print(ans)\n",
    "\n",
    "while game_over == False  \n",
    "    \n",
    "    def winCondition():\n",
    "        if playerHandTotal == 21:\n",
    "            print('blackjack')\n",
    "        else:\n",
    "            while playerHandTotal < 21:\n",
    "                ans = input('Hit or Stand?')\n",
    "                if ans.lower() == 'hit':\n",
    "                    player_hit = True\n",
    "        \n",
    "    def push\n",
    "        if playerHandTotal = \n",
    "        \n",
    "        \n",
    "        \n",
    "    def bust():\n",
    "        if playerscore >= 21:\n",
    "        print('You\\'re over')\n",
    "        "
   ]
  },
  {
   "cell_type": "code",
   "execution_count": 8,
   "metadata": {},
   "outputs": [
    {
     "name": "stdout",
     "output_type": "stream",
     "text": [
      "Ace of diamonds\n",
      "6 of diamonds\n",
      "[Card(value='9', suit='diamonds'), Card(value='6', suit='spades')]\n"
     ]
    }
   ],
   "source": [
    "#generate deck\n",
    "from collections import namedtuple\n",
    "import random\n",
    "\n",
    "Card = namedtuple('Card', ['value', 'suit'])\n",
    "suits = ['hearts', 'diamonds', 'spades', 'clubs']\n",
    "values = ['Ace', '2', '3', '4', '5', '6', '7', '8', '9', '10', 'Jack', 'Queen', 'King']\n",
    "deck = [Card(value, suit) for value in values for suit in suits]\n",
    "\n",
    "\n",
    "def __init__(self, card):\n",
    "        self.value = self.determineValue(card[0])\n",
    "        self.suit = card[1]\n",
    "\n",
    "\n",
    "def determineValue(x,y):\n",
    "    return {\n",
    "            'Ace': 1,\n",
    "            '2': 2,\n",
    "            '3': 3,\n",
    "            '4': 4,\n",
    "            '5': 5,\n",
    "            '6': 6,\n",
    "            '7': 7,\n",
    "            '8': 8,\n",
    "            '9': 9,\n",
    "            '10': 10,\n",
    "            'Jack' : 10,\n",
    "            'Queen' : 10,\n",
    "            'King': 10 \n",
    "    }.get(y)\n",
    "\n",
    "random.shuffle(deck)\n",
    "\n",
    "for i in range(2):\n",
    "    print(deck[i][0], 'of', deck[i][1])\n",
    "\n",
    "playerhand = []\n",
    "card1 = deck.pop()\n",
    "card2 = deck.pop()\n",
    "\n",
    "playerhand.append(card1)\n",
    "playerhand.append(card2)\n",
    "print(playerhand)\n",
    "\n"
   ]
  },
  {
   "cell_type": "code",
   "execution_count": null,
   "metadata": {},
   "outputs": [],
   "source": [
    "import random\n",
    "\n",
    "class Player():\n",
    "    def __init__(self):\n",
    "        self.hand = []\n",
    "        \n",
    "class Dealer():\n",
    "    def __init__(self):\n",
    "        self.hand = []\n",
    "        \n",
    "        \n",
    "class BlackJack():\n",
    "    def __init__(self):\n",
    "        self.deck = [x for i in range(4) for x in range(2, 12)]\n",
    "        \n",
    "    def shuffleDeck(self):\n",
    "        random.shuffle(self.deck)\n",
    "        \n",
    "    def dealStart(self, player, dealer):\n",
    "        for i in range(2):\n",
    "            self.dealCard(player)\n",
    "            self.dealCard(dealer)\n",
    "        \n",
    "    def dealCard(self, person):\n",
    "        person.hand.append(self.deck.pop())\n",
    "    \n",
    "    def countTotal(self, person):\n",
    "        total = 0\n",
    "        for card in person.hand:\n",
    "            total += card\n",
    "        return total\n",
    "    \n",
    "    def checkResults(self, player, dealer):\n",
    "        if self.countTotal(player) > self.countTotal(dealer):\n",
    "            return 0\n",
    "        elif self.countTotal(player) < self.countTotal(dealer):\n",
    "            return 1\n",
    "        elif self.countTotal(player) == self.countTotal(dealer):\n",
    "            return 2\n",
    "        \n",
    "    def busted(self, person):\n",
    "        if self.countTotal(person) > 21:\n",
    "            return True\n",
    "        \n",
    "    def showCards(self, player, dealer):\n",
    "        print('Player: {}\\tTotal = {}'.format(player.hand, self.countTotal(player)))\n",
    "        print('Dealer: {}\\tTotal = {}'.format(dealer.hand, self.countTotal(dealer)))\n",
    "        \n",
    "        \n",
    "# game play  \n",
    "while True:\n",
    "            # step1: initiate proper variables to be used, instance of Player, Dealer, Blackjack\n",
    "    def __init__(Self, Player, Dealer, Blackjack):\n",
    "            # step1a: shuffle deck, by calling game.shuffleDeck\n",
    "        game.shuffleDeck\n",
    "            # step2: hand out cards to dealer and player, call dealStart with player and dealer instance\n",
    "        game.dealStart(Player, Dealer)\n",
    "            # step2a: show cards by calling showCards\n",
    "        game.showcards\n",
    "    \n",
    "        # step3: ask player if they would like to hit or stay by using input, continue to loop if they hit\n",
    "    #while True:\n",
    "        ans = input('Hit or stay?')\n",
    "            # step3a: if players hits, then deal a card to player, by calling dealCard and passing player instance\n",
    "        if ans.lower == 'hit':\n",
    "            game.dealcard(Player)\n",
    "\n",
    "                # step3b: if player busts, dealer wins, end loop, by checking game.busted()\n",
    "        if game.busted == True:\n",
    "            break\n",
    "\n",
    "            # step3c: if player stays, move to dealer\n",
    "        if ans.lower == 'stay':\n",
    "            break\n",
    "            \n",
    "            # step4: check dealer total by calling game.countTotal()\n",
    "        game.countTotal()        \n",
    "        \n",
    "            # step 5: ask if player would like to play again\n",
    "        ans = input('Would you like to play again? (yes/no): ')\n",
    "    \n",
    "        if ans.lower() == 'no':\n",
    "            print('Thanks for playing')\n",
    "            break\n",
    "\n",
    "\n"
   ]
  }
 ],
 "metadata": {
  "kernelspec": {
   "display_name": "Python 3",
   "language": "python",
   "name": "python3"
  }
 },
 "nbformat": 4,
 "nbformat_minor": 2
}
